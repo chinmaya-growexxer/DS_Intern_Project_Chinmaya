{
  "cells": [
    {
      "cell_type": "code",
      "execution_count": 52,
      "metadata": {
        "colab": {
          "base_uri": "https://localhost:8080/"
        },
        "id": "jOeD8Dtobmz1",
        "outputId": "3e1b2ec0-5ea8-433a-a4e4-7384258663d6"
      },
      "outputs": [
        {
          "name": "stdout",
          "output_type": "stream",
          "text": [
            "Requirement already satisfied: snowflake-connector-python in /usr/local/lib/python3.10/dist-packages (3.11.0)\n",
            "Requirement already satisfied: asn1crypto<2.0.0,>0.24.0 in /usr/local/lib/python3.10/dist-packages (from snowflake-connector-python) (1.5.1)\n",
            "Requirement already satisfied: cffi<2.0.0,>=1.9 in /usr/local/lib/python3.10/dist-packages (from snowflake-connector-python) (1.16.0)\n",
            "Requirement already satisfied: cryptography<43.0.0,>=3.1.0 in /usr/local/lib/python3.10/dist-packages (from snowflake-connector-python) (42.0.8)\n",
            "Requirement already satisfied: pyOpenSSL<25.0.0,>=16.2.0 in /usr/local/lib/python3.10/dist-packages (from snowflake-connector-python) (24.1.0)\n",
            "Requirement already satisfied: pyjwt<3.0.0 in /usr/lib/python3/dist-packages (from snowflake-connector-python) (2.3.0)\n",
            "Requirement already satisfied: pytz in /usr/local/lib/python3.10/dist-packages (from snowflake-connector-python) (2023.4)\n",
            "Requirement already satisfied: requests<3.0.0 in /usr/local/lib/python3.10/dist-packages (from snowflake-connector-python) (2.31.0)\n",
            "Requirement already satisfied: packaging in /usr/local/lib/python3.10/dist-packages (from snowflake-connector-python) (24.1)\n",
            "Requirement already satisfied: charset-normalizer<4,>=2 in /usr/local/lib/python3.10/dist-packages (from snowflake-connector-python) (3.3.2)\n",
            "Requirement already satisfied: idna<4,>=2.5 in /usr/local/lib/python3.10/dist-packages (from snowflake-connector-python) (3.7)\n",
            "Requirement already satisfied: certifi>=2017.4.17 in /usr/local/lib/python3.10/dist-packages (from snowflake-connector-python) (2024.6.2)\n",
            "Requirement already satisfied: typing-extensions<5,>=4.3 in /usr/local/lib/python3.10/dist-packages (from snowflake-connector-python) (4.12.2)\n",
            "Requirement already satisfied: filelock<4,>=3.5 in /usr/local/lib/python3.10/dist-packages (from snowflake-connector-python) (3.15.4)\n",
            "Requirement already satisfied: sortedcontainers>=2.4.0 in /usr/local/lib/python3.10/dist-packages (from snowflake-connector-python) (2.4.0)\n",
            "Requirement already satisfied: platformdirs<5.0.0,>=2.6.0 in /usr/local/lib/python3.10/dist-packages (from snowflake-connector-python) (4.2.2)\n",
            "Requirement already satisfied: tomlkit in /usr/local/lib/python3.10/dist-packages (from snowflake-connector-python) (0.13.0)\n",
            "Requirement already satisfied: pycparser in /usr/local/lib/python3.10/dist-packages (from cffi<2.0.0,>=1.9->snowflake-connector-python) (2.22)\n",
            "Requirement already satisfied: urllib3<3,>=1.21.1 in /usr/local/lib/python3.10/dist-packages (from requests<3.0.0->snowflake-connector-python) (2.0.7)\n"
          ]
        }
      ],
      "source": [
        "!pip install snowflake-connector-python"
      ]
    },
    {
      "cell_type": "code",
      "execution_count": 53,
      "metadata": {
        "colab": {
          "base_uri": "https://localhost:8080/"
        },
        "id": "4YS4xierbxqD",
        "outputId": "a12e41e2-1cd2-4409-c243-c840177d8208"
      },
      "outputs": [
        {
          "name": "stdout",
          "output_type": "stream",
          "text": [
            "Requirement already satisfied: langchain_core in /usr/local/lib/python3.10/dist-packages (0.2.16)\n",
            "Requirement already satisfied: PyYAML>=5.3 in /usr/local/lib/python3.10/dist-packages (from langchain_core) (6.0.1)\n",
            "Requirement already satisfied: jsonpatch<2.0,>=1.33 in /usr/local/lib/python3.10/dist-packages (from langchain_core) (1.33)\n",
            "Requirement already satisfied: langsmith<0.2.0,>=0.1.75 in /usr/local/lib/python3.10/dist-packages (from langchain_core) (0.1.85)\n",
            "Requirement already satisfied: packaging<25,>=23.2 in /usr/local/lib/python3.10/dist-packages (from langchain_core) (24.1)\n",
            "Requirement already satisfied: pydantic<3,>=1 in /usr/local/lib/python3.10/dist-packages (from langchain_core) (2.8.0)\n",
            "Requirement already satisfied: tenacity!=8.4.0,<9.0.0,>=8.1.0 in /usr/local/lib/python3.10/dist-packages (from langchain_core) (8.4.2)\n",
            "Requirement already satisfied: jsonpointer>=1.9 in /usr/local/lib/python3.10/dist-packages (from jsonpatch<2.0,>=1.33->langchain_core) (3.0.0)\n",
            "Requirement already satisfied: orjson<4.0.0,>=3.9.14 in /usr/local/lib/python3.10/dist-packages (from langsmith<0.2.0,>=0.1.75->langchain_core) (3.10.6)\n",
            "Requirement already satisfied: requests<3,>=2 in /usr/local/lib/python3.10/dist-packages (from langsmith<0.2.0,>=0.1.75->langchain_core) (2.31.0)\n",
            "Requirement already satisfied: annotated-types>=0.4.0 in /usr/local/lib/python3.10/dist-packages (from pydantic<3,>=1->langchain_core) (0.7.0)\n",
            "Requirement already satisfied: pydantic-core==2.20.0 in /usr/local/lib/python3.10/dist-packages (from pydantic<3,>=1->langchain_core) (2.20.0)\n",
            "Requirement already satisfied: typing-extensions>=4.6.1 in /usr/local/lib/python3.10/dist-packages (from pydantic<3,>=1->langchain_core) (4.12.2)\n",
            "Requirement already satisfied: charset-normalizer<4,>=2 in /usr/local/lib/python3.10/dist-packages (from requests<3,>=2->langsmith<0.2.0,>=0.1.75->langchain_core) (3.3.2)\n",
            "Requirement already satisfied: idna<4,>=2.5 in /usr/local/lib/python3.10/dist-packages (from requests<3,>=2->langsmith<0.2.0,>=0.1.75->langchain_core) (3.7)\n",
            "Requirement already satisfied: urllib3<3,>=1.21.1 in /usr/local/lib/python3.10/dist-packages (from requests<3,>=2->langsmith<0.2.0,>=0.1.75->langchain_core) (2.0.7)\n",
            "Requirement already satisfied: certifi>=2017.4.17 in /usr/local/lib/python3.10/dist-packages (from requests<3,>=2->langsmith<0.2.0,>=0.1.75->langchain_core) (2024.6.2)\n"
          ]
        }
      ],
      "source": [
        "!pip install langchain_core"
      ]
    },
    {
      "cell_type": "code",
      "execution_count": 54,
      "metadata": {
        "colab": {
          "base_uri": "https://localhost:8080/"
        },
        "id": "QKL0F_mgb16S",
        "outputId": "b986f430-b474-469c-9c3e-6177e02f1359"
      },
      "outputs": [
        {
          "name": "stdout",
          "output_type": "stream",
          "text": [
            "Requirement already satisfied: langchain_groq in /usr/local/lib/python3.10/dist-packages (0.1.6)\n",
            "Requirement already satisfied: groq<1,>=0.4.1 in /usr/local/lib/python3.10/dist-packages (from langchain_groq) (0.9.0)\n",
            "Requirement already satisfied: langchain-core<0.3,>=0.2.2 in /usr/local/lib/python3.10/dist-packages (from langchain_groq) (0.2.16)\n",
            "Requirement already satisfied: anyio<5,>=3.5.0 in /usr/local/lib/python3.10/dist-packages (from groq<1,>=0.4.1->langchain_groq) (3.7.1)\n",
            "Requirement already satisfied: distro<2,>=1.7.0 in /usr/lib/python3/dist-packages (from groq<1,>=0.4.1->langchain_groq) (1.7.0)\n",
            "Requirement already satisfied: httpx<1,>=0.23.0 in /usr/local/lib/python3.10/dist-packages (from groq<1,>=0.4.1->langchain_groq) (0.27.0)\n",
            "Requirement already satisfied: pydantic<3,>=1.9.0 in /usr/local/lib/python3.10/dist-packages (from groq<1,>=0.4.1->langchain_groq) (2.8.0)\n",
            "Requirement already satisfied: sniffio in /usr/local/lib/python3.10/dist-packages (from groq<1,>=0.4.1->langchain_groq) (1.3.1)\n",
            "Requirement already satisfied: typing-extensions<5,>=4.7 in /usr/local/lib/python3.10/dist-packages (from groq<1,>=0.4.1->langchain_groq) (4.12.2)\n",
            "Requirement already satisfied: PyYAML>=5.3 in /usr/local/lib/python3.10/dist-packages (from langchain-core<0.3,>=0.2.2->langchain_groq) (6.0.1)\n",
            "Requirement already satisfied: jsonpatch<2.0,>=1.33 in /usr/local/lib/python3.10/dist-packages (from langchain-core<0.3,>=0.2.2->langchain_groq) (1.33)\n",
            "Requirement already satisfied: langsmith<0.2.0,>=0.1.75 in /usr/local/lib/python3.10/dist-packages (from langchain-core<0.3,>=0.2.2->langchain_groq) (0.1.85)\n",
            "Requirement already satisfied: packaging<25,>=23.2 in /usr/local/lib/python3.10/dist-packages (from langchain-core<0.3,>=0.2.2->langchain_groq) (24.1)\n",
            "Requirement already satisfied: tenacity!=8.4.0,<9.0.0,>=8.1.0 in /usr/local/lib/python3.10/dist-packages (from langchain-core<0.3,>=0.2.2->langchain_groq) (8.4.2)\n",
            "Requirement already satisfied: idna>=2.8 in /usr/local/lib/python3.10/dist-packages (from anyio<5,>=3.5.0->groq<1,>=0.4.1->langchain_groq) (3.7)\n",
            "Requirement already satisfied: exceptiongroup in /usr/local/lib/python3.10/dist-packages (from anyio<5,>=3.5.0->groq<1,>=0.4.1->langchain_groq) (1.2.1)\n",
            "Requirement already satisfied: certifi in /usr/local/lib/python3.10/dist-packages (from httpx<1,>=0.23.0->groq<1,>=0.4.1->langchain_groq) (2024.6.2)\n",
            "Requirement already satisfied: httpcore==1.* in /usr/local/lib/python3.10/dist-packages (from httpx<1,>=0.23.0->groq<1,>=0.4.1->langchain_groq) (1.0.5)\n",
            "Requirement already satisfied: h11<0.15,>=0.13 in /usr/local/lib/python3.10/dist-packages (from httpcore==1.*->httpx<1,>=0.23.0->groq<1,>=0.4.1->langchain_groq) (0.14.0)\n",
            "Requirement already satisfied: jsonpointer>=1.9 in /usr/local/lib/python3.10/dist-packages (from jsonpatch<2.0,>=1.33->langchain-core<0.3,>=0.2.2->langchain_groq) (3.0.0)\n",
            "Requirement already satisfied: orjson<4.0.0,>=3.9.14 in /usr/local/lib/python3.10/dist-packages (from langsmith<0.2.0,>=0.1.75->langchain-core<0.3,>=0.2.2->langchain_groq) (3.10.6)\n",
            "Requirement already satisfied: requests<3,>=2 in /usr/local/lib/python3.10/dist-packages (from langsmith<0.2.0,>=0.1.75->langchain-core<0.3,>=0.2.2->langchain_groq) (2.31.0)\n",
            "Requirement already satisfied: annotated-types>=0.4.0 in /usr/local/lib/python3.10/dist-packages (from pydantic<3,>=1.9.0->groq<1,>=0.4.1->langchain_groq) (0.7.0)\n",
            "Requirement already satisfied: pydantic-core==2.20.0 in /usr/local/lib/python3.10/dist-packages (from pydantic<3,>=1.9.0->groq<1,>=0.4.1->langchain_groq) (2.20.0)\n",
            "Requirement already satisfied: charset-normalizer<4,>=2 in /usr/local/lib/python3.10/dist-packages (from requests<3,>=2->langsmith<0.2.0,>=0.1.75->langchain-core<0.3,>=0.2.2->langchain_groq) (3.3.2)\n",
            "Requirement already satisfied: urllib3<3,>=1.21.1 in /usr/local/lib/python3.10/dist-packages (from requests<3,>=2->langsmith<0.2.0,>=0.1.75->langchain-core<0.3,>=0.2.2->langchain_groq) (2.0.7)\n"
          ]
        }
      ],
      "source": [
        "!pip install langchain_groq"
      ]
    },
    {
      "cell_type": "code",
      "execution_count": null,
      "metadata": {},
      "outputs": [],
      "source": [
        "!pip install configparser"
      ]
    },
    {
      "cell_type": "code",
      "execution_count": null,
      "metadata": {
        "id": "2l30Pk-vbbmT"
      },
      "outputs": [],
      "source": [
        "from langchain_core.prompts import ChatPromptTemplate\n",
        "from langchain_core.runnables import RunnablePassthrough\n",
        "from langchain_core.output_parsers import StrOutputParser\n",
        "from langchain_groq import ChatGroq\n",
        "import snowflake.connector\n",
        "import configparser"
      ]
    },
    {
      "cell_type": "code",
      "execution_count": 56,
      "metadata": {
        "id": "0BzLWwrPcxB0"
      },
      "outputs": [],
      "source": [
        "def connect_to_snowflake(user, password, account, warehouse, database, schema, role):\n",
        "    conn = snowflake.connector.connect(\n",
        "        user=user,\n",
        "        password=password,\n",
        "        account=account,\n",
        "        warehouse=warehouse,\n",
        "        database=database,\n",
        "        schema=schema,\n",
        "        role=role,\n",
        "    )\n",
        "    return conn"
      ]
    },
    {
      "cell_type": "code",
      "execution_count": 57,
      "metadata": {
        "id": "VDG8qzrnduNc"
      },
      "outputs": [],
      "source": [
        "# Function to fetch table and column information from the database schema\n",
        "def get_db_schema(conn,table_schema, table_name):\n",
        "    cursor = conn.cursor()\n",
        "    query = f\"SELECT COLUMN_NAME FROM INFORMATION_SCHEMA.COLUMNS WHERE TABLE_SCHEMA = '{table_schema}' AND TABLE_NAME = '{table_name}'\"\n",
        "    cursor.execute(query)\n",
        "    schema_info = [row[0] for row in cursor.fetchall()]\n",
        "    cursor.close()\n",
        "    return schema_info"
      ]
    },
    {
      "cell_type": "code",
      "execution_count": 58,
      "metadata": {
        "id": "F1VPpKnHeZwp"
      },
      "outputs": [],
      "source": [
        "# # Function to create SQL query generation chain\n",
        "# def create_sql_chain(conn,table_schema, target_table, question, llm_model, api_key):\n",
        "#     schema_info = get_db_schema(conn,table_schema, target_table)\n",
        "\n",
        "#     template = f\"\"\"\n",
        "#     You are provided with the schema of the table '{target_table}' in the database:\n",
        "#     Schema: {schema_info}\n",
        "\n",
        "#     Write a SQL query to answer the following question using the exact column names from the schema:\n",
        "\n",
        "#     Question: {question}\n",
        "\n",
        "#     SQL Query:\n",
        "#     \"\"\"\n",
        "#     prompt = ChatPromptTemplate.from_template(template=template)\n",
        "#     llm = ChatGroq(model=f\"{llm_model}\", temperature=0.2, groq_api_key=f\"{api_key}\")\n",
        "\n",
        "#     return (\n",
        "#         RunnablePassthrough(assignments={\"schema\": schema_info, \"question\": question})\n",
        "#         | prompt\n",
        "#         | llm\n",
        "#         | StrOutputParser()\n",
        "#     )"
      ]
    },
    {
      "cell_type": "code",
      "execution_count": 59,
      "metadata": {
        "id": "bQ19Iu9Kj6yT"
      },
      "outputs": [],
      "source": [
        "# user_query = What is the cost for customer ID 10000005 on their 5th shopping point?"
      ]
    },
    {
      "cell_type": "code",
      "execution_count": 60,
      "metadata": {
        "id": "Vd5EDghhmSy-"
      },
      "outputs": [],
      "source": [
        "def execute_query(conn, query: str):\n",
        "    cursor = conn.cursor()\n",
        "    cursor.execute(query)\n",
        "    results = cursor.fetchall()\n",
        "    cursor.close()\n",
        "    return results"
      ]
    },
    {
      "cell_type": "code",
      "execution_count": 61,
      "metadata": {
        "id": "n8g6n19Yrf2P"
      },
      "outputs": [],
      "source": [
        "# Function to create SQL query generation chain\n",
        "def create_sql_chain(conn,schema, target_table, question,llm_model,api_key):\n",
        "    schema_info = get_db_schema(conn,schema, target_table)\n",
        "\n",
        "    template = f\"\"\"\n",
        "        Based on the table schema of table '{target_table}', write a SQL query to answer the question.\n",
        "        Only provide the SQL query, without any additional text or characters. Use the exact column names from the schema.\n",
        "\n",
        "        Table schema: {schema_info}\n",
        "        Question: {question}\n",
        "\n",
        "        SQL Query:\n",
        "    \"\"\"\n",
        "    prompt = ChatPromptTemplate.from_template(template=template)\n",
        "    llm = ChatGroq(model=llm_model, temperature=0.2, groq_api_key=api_key)\n",
        "\n",
        "    return (\n",
        "        RunnablePassthrough(assignments={\"schema\": schema_info, \"question\": question})\n",
        "        | prompt\n",
        "        | llm\n",
        "        | StrOutputParser()\n",
        "    )"
      ]
    },
    {
      "cell_type": "code",
      "execution_count": 62,
      "metadata": {
        "id": "yt4tHvShFcIJ"
      },
      "outputs": [],
      "source": [
        "# def create_sql_query(conn, table_schema, target_table, question, llm_model, api_key):\n",
        "#     schema_info = get_db_schema(conn, table_schema, target_table)\n",
        "\n",
        "#     template = f\"\"\"\n",
        "#         Based on the table schema of table '{target_table}', write a SQL query to answer the question.\n",
        "#         Only provide the SQL query, without any additional text or characters. Use the exact column names from the schema.\n",
        "\n",
        "#         Table schema: {schema_info}\n",
        "#         Question: {question}\n",
        "\n",
        "#         SQL Query:\n",
        "#     \"\"\"\n",
        "\n",
        "#     prompt = ChatPromptTemplate.from_template(template=template)\n",
        "#     llm = ChatGroq(model=llm_model, temperature=0.2, groq_api_key=api_key)\n",
        "\n",
        "#     # Generate SQL query\n",
        "#     sql_query_with_description = (\n",
        "#         RunnablePassthrough(assignments={\"schema\": schema_info, \"question\": question})\n",
        "#         | prompt\n",
        "#         | llm\n",
        "#         | StrOutputParser()\n",
        "#     ).invoke({})\n",
        "\n",
        "#     # Extract SQL query from the generated output\n",
        "#     sql_query_lines = sql_query_with_description.split(\"\\n\")\n",
        "#     extracted_query = \"\\n\".join(line.strip() for line in sql_query_lines if line.strip().startswith(\"SELECT\"))\n",
        "\n",
        "#     return extracted_query.strip()"
      ]
    },
    {
      "cell_type": "code",
      "execution_count": 63,
      "metadata": {
        "id": "8desCkIKt7nD"
      },
      "outputs": [],
      "source": [
        "# Function to create natural language response based on SQL query results\n",
        "\n",
        "def create_nlp_answer(conn, sql_query, results):\n",
        "\n",
        "    results_str = \"\\n\".join([str(row) for row in results])\n",
        "\n",
        "    template = f\"\"\"\n",
        "\n",
        "        Based on the results of the SQL query '{sql_query}', write a natural language response.\n",
        "\n",
        "        Query Results:\n",
        "\n",
        "        {results_str}\n",
        "\n",
        "    \"\"\"\n",
        "\n",
        "    prompt = ChatPromptTemplate.from_template(template=template)\n",
        "\n",
        "    llm = ChatGroq(model=\"llama3-8b-8192\", temperature=0.2, groq_api_key=\"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\")\n",
        "\n",
        "    return (\n",
        "\n",
        "        RunnablePassthrough(assignments={\"sql_query\": sql_query, \"results\": results_str})\n",
        "\n",
        "        | prompt\n",
        "\n",
        "        | llm\n",
        "\n",
        "        | StrOutputParser()\n",
        "\n",
        "    )"
      ]
    },
    {
      "cell_type": "code",
      "execution_count": 66,
      "metadata": {
        "colab": {
          "base_uri": "https://localhost:8080/"
        },
        "id": "AZK2oljQbLRM",
        "outputId": "e341616a-a012-4eb8-a4b9-5fdfe1381151"
      },
      "outputs": [
        {
          "name": "stdout",
          "output_type": "stream",
          "text": [
            "Connected to the database successfully!\n",
            "Ask your database a question about INSURANCETABLE: What is the cost for customer ID 10000005 on their 5th shopping point?\n",
            "Generated SQL Query:\n",
            "SELECT COST \n",
            "FROM INSURANCETABLE \n",
            "WHERE CUSTOMER_ID = 10000005 AND SHOPPING_PT = 5;\n",
            "(731,)\n",
            "Natural Language Response:\n",
            "According to the insurance table, the cost associated with customer ID 10000005 and shopping point 5 is $731.\n"
          ]
        }
      ],
      "source": [
        "def main():\n",
        "    # Read the config file\n",
        "    config = configparser.ConfigParser()\n",
        "    config.read('config.ini')\n",
        "\n",
        "    # Get the Snowflake credentials and other details\n",
        "    snowflake_config = config['snowflake']\n",
        "    user = snowflake_config['user']\n",
        "    password = snowflake_config['password']\n",
        "    account = snowflake_config['account']\n",
        "    warehouse = snowflake_config['warehouse']\n",
        "    database = snowflake_config['database']\n",
        "    schema = snowflake_config['schema']\n",
        "    role = snowflake_config['role']\n",
        "    target_table = snowflake_config['target_table']\n",
        "\n",
        "    # Get the API details\n",
        "    api_config = config['api']\n",
        "    llm_model = 'gemma2-9b-it'\n",
        "    groq_api_key = api_config['groq_api_key']\n",
        "\n",
        "    # Connect to Snowflake\n",
        "    conn = connect_to_snowflake(user, password, account, warehouse, database, schema, role)\n",
        "    print(\"Connected to the database successfully!\")\n",
        "\n",
        "    # schema_info = get_db_schema(conn,schema, target_table)\n",
        "    # print(f\"Table Schema: {schema_info}\")\n",
        "\n",
        "    user_query = input(\"Ask your database a question about \" + target_table + \": \")\n",
        "\n",
        "    sql_chain = create_sql_chain(conn,schema, target_table, user_query,llm_model,groq_api_key)\n",
        "    sql_query_response = sql_chain.invoke({})\n",
        "\n",
        "    sql_query = sql_query_response.strip()\n",
        "\n",
        "    print(f\"Generated SQL Query:\\n{sql_query}\")\n",
        "\n",
        "    results = execute_query(conn, sql_query)\n",
        "\n",
        "    if results:\n",
        "\n",
        "        for row in results:\n",
        "\n",
        "            print(row)\n",
        "\n",
        "        # Generate natural language response\n",
        "\n",
        "        nlp_chain = create_nlp_answer(conn, sql_query, results)\n",
        "\n",
        "        nlp_response = nlp_chain.invoke({})\n",
        "\n",
        "        print(f\"Natural Language Response:\\n{nlp_response}\")\n",
        "\n",
        "    else:\n",
        "\n",
        "        print(\"No results found or error occurred.\")\n",
        "\n",
        "    conn.close()\n",
        "\n",
        "if __name__ == \"__main__\":\n",
        "\n",
        "    main()"
      ]
    }
  ],
  "metadata": {
    "colab": {
      "provenance": []
    },
    "kernelspec": {
      "display_name": "Python 3",
      "name": "python3"
    },
    "language_info": {
      "name": "python"
    }
  },
  "nbformat": 4,
  "nbformat_minor": 0
}
